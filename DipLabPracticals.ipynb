{
 "cells": [
  {
   "cell_type": "code",
   "execution_count": 1,
   "id": "ff754134",
   "metadata": {},
   "outputs": [],
   "source": [
    "import cv2\n",
    "import numpy as np"
   ]
  },
  {
   "cell_type": "code",
   "execution_count": 19,
   "id": "c59b8afa",
   "metadata": {
    "pycharm": {
     "name": "#%%\n"
    }
   },
   "outputs": [],
   "source": [
    "img = cv2.imread(\"img.png\")\n",
    "#img=cv2.resize(img,(320,556))\n",
    "#img=cv2.resize(img,(320,320))\n",
    "img=cv2.resize(img,(360,360))\n",
    "cv2.imshow(\"orignal image\",img)\n",
    "imgr=cv2.cvtColor(img,cv2.COLOR_BGR2RGB)\n",
    "red,green,blue=cv2.split(imgr) #it splits in BGR format when we give it a image without converting its nd array to RGB using CV2.COLOR_BGR2RGB function\n",
    "#redimg=img[:,:,2]\n",
    "#greenimg=img[:,:,1]\n",
    "#blueimg=img[:,:,0]\n",
    "zeros = np.zeros(img.shape[:2],dtype=\"uint8\")\n",
    "#redimg=cv2.merge([red,zeros,zeros])\n",
    "#greenimg=cv2.merge([zeros,green,zeros])\n",
    "#blueimg=cv2.merge([zeros,zeros,blue])\n",
    "cv2.imshow(\"red shown channel of image\",cv2.merge([blue,zeros,zeros]))\n",
    "cv2.imshow(\"green shown channel of image\", cv2.merge([zeros,green,zeros]))\n",
    "cv2.imshow(\"blue shown channel of image\", cv2.merge([zeros,zeros,red]))\n",
    "cv2.imshow(\"red channel of image\",red)\n",
    "cv2.imshow(\"green channel of image\", green)\n",
    "cv2.imshow(\"blue channel of image\", blue)\n",
    "#(h, w) = img.shape[:2]\n",
    "#output = np.zeros((h * 2, w * 2, 3), dtype=\"uint8\")\n",
    "#output[0:h, 0:w] = img\n",
    "#output[0:h, w:w * 2] = redimg\n",
    "#utput[h:h * 2, w:w * 2] = greenimg\n",
    "#output[h:h * 2, 0:w] = blueimg\n",
    "#cv2.imshow(\"blue channel of image\",output)\n",
    "cv2.waitKey(0)\n",
    "cv2.destroyAllWindows()\n",
    "\n",
    "#%"
   ]
  },
  {
   "cell_type": "code",
   "execution_count": 17,
   "outputs": [],
   "source": [],
   "metadata": {
    "collapsed": false,
    "pycharm": {
     "name": "#%%\n"
    }
   }
  },
  {
   "cell_type": "code",
   "execution_count": null,
   "outputs": [],
   "source": [],
   "metadata": {
    "collapsed": false,
    "pycharm": {
     "name": "#%%\n"
    }
   }
  }
 ],
 "metadata": {
  "kernelspec": {
   "name": "python3",
   "language": "python",
   "display_name": "Python 3 (ipykernel)"
  },
  "language_info": {
   "codemirror_mode": {
    "name": "ipython",
    "version": 3
   },
   "file_extension": ".py",
   "mimetype": "text/x-python",
   "name": "python",
   "nbconvert_exporter": "python",
   "pygments_lexer": "ipython3",
   "version": "3.8.12"
  }
 },
 "nbformat": 4,
 "nbformat_minor": 5
}